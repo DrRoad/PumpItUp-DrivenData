{
 "cells": [
  {
   "cell_type": "code",
   "execution_count": 1,
   "metadata": {
    "collapsed": true
   },
   "outputs": [],
   "source": [
    "import pandas as pd\n",
    "import numpy as np\n",
    "import matplotlib.pyplot as plt\n",
    "import seaborn as sns\n",
    "%matplotlib inline"
   ]
  },
  {
   "cell_type": "code",
   "execution_count": 2,
   "metadata": {
    "collapsed": false
   },
   "outputs": [
    {
     "name": "stdout",
     "output_type": "stream",
     "text": [
      "\u001b[01;34m.\u001b[00m\r\n",
      "├── features_submission_prepared.csv\r\n",
      "├── features_submission_prepared_for_benchmark.csv\r\n",
      "├── Pumpitup_data_preparation_for_benchmark.ipynb\r\n",
      "├── Pumpitup_data_preparation.ipynb\r\n",
      "├── PumpItUp.ipynb\r\n",
      "├── PumpItUp-learning.ipynb\r\n",
      "├── README.md\r\n",
      "├── results_MajorityVote_2.csv\r\n",
      "├── results_MajorityVote.csv\r\n",
      "├── results_RandomForest-09-august-2017.csv\r\n",
      "├── results_RandomForest-benchmark.csv\r\n",
      "├── results_Randomforest_Benchmark.csv\r\n",
      "├── results_RandomForest-n_estimators-800.csv\r\n",
      "├── SubmissionFormat.csv\r\n",
      "├── submission_set_features.csv\r\n",
      "├── training_data_for_benchmark.csv\r\n",
      "├── training_data_prepared.csv\r\n",
      "├── training_set.csv\r\n",
      "└── training_set_labels.csv\r\n",
      "\r\n",
      "0 directories, 19 files\r\n"
     ]
    }
   ],
   "source": [
    "!tree --filelimit=30"
   ]
  },
  {
   "cell_type": "markdown",
   "metadata": {},
   "source": [
    "# Section 1 : Importation of prepared data \n",
    "___"
   ]
  },
  {
   "cell_type": "code",
   "execution_count": 3,
   "metadata": {
    "collapsed": false
   },
   "outputs": [],
   "source": [
    "data_PumpItUp = pd.read_csv(\"training_data_prepared.csv\")"
   ]
  },
  {
   "cell_type": "markdown",
   "metadata": {},
   "source": [
    "# Section 2 : Learning \n",
    "___\n",
    "I have tried several models for classification (Random Forest, K-neigbors, Adaboost, XGBoost, SVM, etc.). Random forest was the one that gave the best initial result with 76 % accuracy without fine-tuning and without all the features. Thus, I decided to do a grid search with Random forest to acheive the maximal accuracy. "
   ]
  },
  {
   "cell_type": "code",
   "execution_count": 4,
   "metadata": {
    "collapsed": false
   },
   "outputs": [],
   "source": [
    "from sklearn.model_selection import train_test_split\n",
    "from sklearn.metrics import classification_report,confusion_matrix, log_loss"
   ]
  },
  {
   "cell_type": "code",
   "execution_count": 5,
   "metadata": {
    "collapsed": false
   },
   "outputs": [],
   "source": [
    "X = data_PumpItUp.drop([\"status_group\"],axis=1)\n",
    "y = data_PumpItUp[\"status_group\"]\n",
    "X = X.fillna(X.mean())"
   ]
  },
  {
   "cell_type": "code",
   "execution_count": 6,
   "metadata": {
    "collapsed": true
   },
   "outputs": [],
   "source": [
    "X_train, X_test, y_train, y_test = train_test_split(X,y , test_size=0.3, random_state=102)"
   ]
  },
  {
   "cell_type": "markdown",
   "metadata": {},
   "source": [
    " ## 2.1 Random Forest - Benchmark"
   ]
  },
  {
   "cell_type": "code",
   "execution_count": 7,
   "metadata": {
    "collapsed": true
   },
   "outputs": [],
   "source": [
    "from sklearn.ensemble import RandomForestClassifier"
   ]
  },
  {
   "cell_type": "code",
   "execution_count": 8,
   "metadata": {
    "collapsed": false
   },
   "outputs": [
    {
     "data": {
      "text/plain": [
       "RandomForestClassifier(bootstrap=True, class_weight=None, criterion='gini',\n",
       "            max_depth=None, max_features='auto', max_leaf_nodes=None,\n",
       "            min_impurity_split=1e-07, min_samples_leaf=1,\n",
       "            min_samples_split=2, min_weight_fraction_leaf=0.0,\n",
       "            n_estimators=10, n_jobs=1, oob_score=False, random_state=None,\n",
       "            verbose=0, warm_start=False)"
      ]
     },
     "execution_count": 8,
     "metadata": {},
     "output_type": "execute_result"
    }
   ],
   "source": [
    "classifier_RandomForest = RandomForestClassifier()\n",
    "classifier_RandomForest.fit(X_train, y_train)"
   ]
  },
  {
   "cell_type": "code",
   "execution_count": 9,
   "metadata": {
    "collapsed": false
   },
   "outputs": [],
   "source": [
    "y_pred_RandomForest = classifier_RandomForest.predict(X_test)"
   ]
  },
  {
   "cell_type": "markdown",
   "metadata": {},
   "source": [
    "### Report on the predictions"
   ]
  },
  {
   "cell_type": "code",
   "execution_count": 10,
   "metadata": {
    "collapsed": false
   },
   "outputs": [
    {
     "data": {
      "image/png": "[encoded data removed]",
      "text/plain": [
       "<matplotlib.figure.Figure at 0x7f72724089b0>"
      ]
     },
     "metadata": {},
     "output_type": "display_data"
    }
   ],
   "source": [
    "cnf_matrix =(1/len(y_test))*confusion_matrix(y_test, y_pred_RandomForest)\n",
    "\n",
    "fig = plt.figure(figsize=(10,10))\n",
    "\n",
    "ax = fig.add_subplot(111)\n",
    "ax.set_title('Confusion matrix', fontsize=18)\n",
    "\n",
    "ax.set_xlabel('predicted class', fontsize=18)\n",
    "ax.set_ylabel('actual class', fontsize=18)\n",
    "\n",
    "labels  = classifier_RandomForest.classes_ \n",
    "plt.xticks(range(len(labels)), labels, fontsize=18)\n",
    "plt.yticks(range(len(labels)), labels, fontsize=18)\n",
    "\n",
    "plt.imshow(cnf_matrix, cmap=plt.cm.Blues, interpolation='nearest')\n",
    "plt.grid(True)\n",
    "plt.colorbar()\n",
    "plt.show()"
   ]
  },
  {
   "cell_type": "code",
   "execution_count": 11,
   "metadata": {
    "collapsed": false
   },
   "outputs": [
    {
     "name": "stdout",
     "output_type": "stream",
     "text": [
      "                         precision    recall  f1-score   support\n",
      "\n",
      "             functional       0.79      0.88      0.83      9685\n",
      "functional needs repair       0.49      0.35      0.40      1314\n",
      "         non functional       0.83      0.75      0.79      6821\n",
      "\n",
      "            avg / total       0.78      0.79      0.78     17820\n",
      "\n"
     ]
    }
   ],
   "source": [
    "print(classification_report(y_test,y_pred_RandomForest))"
   ]
  },
  {
   "cell_type": "markdown",
   "metadata": {},
   "source": [
    "## 2.2 Grid search for Random Forest "
   ]
  },
  {
   "cell_type": "code",
   "execution_count": 12,
   "metadata": {
    "collapsed": true
   },
   "outputs": [],
   "source": [
    "from sklearn.model_selection import GridSearchCV"
   ]
  },
  {
   "cell_type": "code",
   "execution_count": 13,
   "metadata": {
    "collapsed": true
   },
   "outputs": [],
   "source": [
    "n_estimators = [20,100,400,800,1200]\n",
    "max_depth = [15,20, 40]\n",
    "param_grid = { \"n_estimators\"      : n_estimators,\n",
    "           \"max_depth\"         : max_depth\n",
    "             }\n"
   ]
  },
  {
   "cell_type": "code",
   "execution_count": null,
   "metadata": {
    "collapsed": false
   },
   "outputs": [],
   "source": [
    "classifier_RF = RandomForestClassifier()\n",
    "grid_search_RF = GridSearchCV(classifier_RF, param_grid, n_jobs =8,cv=5)"
   ]
  },
  {
   "cell_type": "code",
   "execution_count": null,
   "metadata": {
    "collapsed": false
   },
   "outputs": [],
   "source": [
    "grid_search_RF.fit(X_train, y_train)"
   ]
  },
  {
   "cell_type": "code",
   "execution_count": null,
   "metadata": {
    "collapsed": false
   },
   "outputs": [],
   "source": [
    "print(grid_search_RF.best_params_)"
   ]
  },
  {
   "cell_type": "code",
   "execution_count": null,
   "metadata": {
    "collapsed": true
   },
   "outputs": [],
   "source": [
    "y_pred_RandomForest_grid = grid_search_RF.predict(X_test)"
   ]
  },
  {
   "cell_type": "markdown",
   "metadata": {},
   "source": [
    "### Grid search report \n",
    "1. Confusion matrix and classification metrics \n",
    "2. heat map for parameters\n",
    "3. features importance"
   ]
  },
  {
   "cell_type": "markdown",
   "metadata": {},
   "source": [
    "#### Confusion matrix and  classification metrics"
   ]
  },
  {
   "cell_type": "code",
   "execution_count": null,
   "metadata": {
    "collapsed": true
   },
   "outputs": [],
   "source": [
    "cnf_matrix = confusion_matrix(y_test, y_pred_RandomForest_grid)\n",
    "\n",
    "fig = plt.figure(figsize=(12,12))\n",
    "\n",
    "ax = fig.add_subplot(111)\n",
    "ax.set_title('Confusion matrix', fontsize=18)\n",
    "\n",
    "ax.set_xlabel('predicted class', fontsize=18)\n",
    "ax.set_ylabel('actual class', fontsize=18)\n",
    "\n",
    "labels  = classifier_RandomForest.classes_ \n",
    "plt.xticks(range(len(labels)), labels, fontsize=18)\n",
    "plt.yticks(range(len(labels)), labels, fontsize=18)\n",
    "\n",
    "plt.imshow(cnf_matrix, cmap=plt.cm.Blues, interpolation='nearest')\n",
    "plt.grid(True)\n",
    "plt.show()"
   ]
  },
  {
   "cell_type": "code",
   "execution_count": null,
   "metadata": {
    "collapsed": false
   },
   "outputs": [],
   "source": [
    "print(classification_report(y_test,y_pred_RandomForest_grid))"
   ]
  },
  {
   "cell_type": "code",
   "execution_count": null,
   "metadata": {
    "collapsed": false
   },
   "outputs": [],
   "source": [
    "scores = grid_search_RF.cv_results_['mean_test_score'].reshape(len(max_depth),len(n_estimators))"
   ]
  },
  {
   "cell_type": "markdown",
   "metadata": {},
   "source": [
    "#### Heat map of parameters search"
   ]
  },
  {
   "cell_type": "code",
   "execution_count": null,
   "metadata": {
    "collapsed": false
   },
   "outputs": [],
   "source": [
    "plt.figure(figsize=(8, 6))\n",
    "plt.subplots_adjust(left=.2, right=0.95, bottom=0.15, top=0.95)\n",
    "plt.imshow(scores, interpolation='nearest', cmap=plt.cm.hot)\n",
    "plt.xlabel('n_estimators')\n",
    "plt.ylabel('max_depth')\n",
    "plt.colorbar()\n",
    "plt.xticks(np.arange(len(n_estimators)), n_estimators, rotation=45)\n",
    "plt.yticks(np.arange(len(max_depth)), max_depth)\n",
    "plt.title('Validation accuracy')\n",
    "plt.show()"
   ]
  },
  {
   "cell_type": "code",
   "execution_count": null,
   "metadata": {
    "collapsed": true
   },
   "outputs": [],
   "source": [
    "#### Feature importance"
   ]
  },
  {
   "cell_type": "code",
   "execution_count": null,
   "metadata": {
    "collapsed": false
   },
   "outputs": [],
   "source": [
    "df_features_importance = pd.concat((pd.DataFrame(X_train.columns, columns = ['variable']), \n",
    "           pd.DataFrame(classifier_RandomForest.feature_importances_, columns = ['importance'])), \n",
    "          axis = 1).sort_values(by='importance', ascending = False)[:20]\n",
    "\n",
    "df_features_importance.plot.bar(x=df_features_importance['variable'])"
   ]
  },
  {
   "cell_type": "code",
   "execution_count": null,
   "metadata": {
    "collapsed": true
   },
   "outputs": [],
   "source": [
    "import pickle\n",
    "# save the classifier\n",
    "with open('classifier_grid_RF.pkl', 'wb') as fid:\n",
    "    pickle.dump(grid_search_RF, fid)"
   ]
  },
  {
   "cell_type": "markdown",
   "metadata": {},
   "source": [
    "# Section 3 : Submission\n",
    "___"
   ]
  },
  {
   "cell_type": "code",
   "execution_count": null,
   "metadata": {
    "collapsed": true
   },
   "outputs": [],
   "source": [
    "X_submission = pd.read_csv(\"features_submission_prepared.csv\")\n",
    "#X_submission = X_submission.fillna(X_submission.mean())"
   ]
  },
  {
   "cell_type": "code",
   "execution_count": null,
   "metadata": {
    "collapsed": false
   },
   "outputs": [],
   "source": [
    "prediction_submission =classifier_RandomForest.predict(X_submission)"
   ]
  },
  {
   "cell_type": "markdown",
   "metadata": {
    "collapsed": true
   },
   "source": [
    "## Merging and saving of the results for submission  \n",
    "___"
   ]
  },
  {
   "cell_type": "markdown",
   "metadata": {},
   "source": [
    "For the submission, I will need the id colums that has been removed in the initial preparation of the data. The predicted label colums also doesn't have a name. The name \"status_group\" in then added to satifisfy the submission format. "
   ]
  },
  {
   "cell_type": "code",
   "execution_count": null,
   "metadata": {
    "collapsed": true
   },
   "outputs": [],
   "source": [
    "features_submission_PumpItUp = pd.read_csv(\"submission_set_features.csv\")"
   ]
  },
  {
   "cell_type": "code",
   "execution_count": null,
   "metadata": {
    "collapsed": false
   },
   "outputs": [],
   "source": [
    "df1 = features_submission_PumpItUp[[\"id\"]]\n",
    "df2 = pd.DataFrame(prediction_submission)\n",
    "df1.reset_index(drop=True, inplace=True)\n",
    "\n",
    "results = pd.concat( [df1, df2], axis=1) "
   ]
  },
  {
   "cell_type": "code",
   "execution_count": null,
   "metadata": {
    "collapsed": false
   },
   "outputs": [],
   "source": [
    "results.reset_index(drop=True, inplace=True)\n",
    "results.columns\n",
    "results.rename(columns={0: 'status_group'}, inplace=True)"
   ]
  },
  {
   "cell_type": "code",
   "execution_count": null,
   "metadata": {
    "collapsed": true
   },
   "outputs": [],
   "source": [
    "results.to_csv(\"results_RandomForest-10-august-2017.csv\",index=False,index_label=False)"
   ]
  },
  {
   "cell_type": "code",
   "execution_count": null,
   "metadata": {
    "collapsed": false
   },
   "outputs": [],
   "source": [
    "results.head()"
   ]
  },
  {
   "cell_type": "code",
   "execution_count": null,
   "metadata": {
    "collapsed": true
   },
   "outputs": [],
   "source": []
  }
 ],
 "metadata": {
  "kernelspec": {
   "display_name": "Python 3",
   "language": "python",
   "name": "python3"
  },
  "language_info": {
   "codemirror_mode": {
    "name": "ipython",
    "version": 3
   },
   "file_extension": ".py",
   "mimetype": "text/x-python",
   "name": "python",
   "nbconvert_exporter": "python",
   "pygments_lexer": "ipython3",
   "version": "3.6.0"
  }
 },
 "nbformat": 4,
 "nbformat_minor": 2
}
